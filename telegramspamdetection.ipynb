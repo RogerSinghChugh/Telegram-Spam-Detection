{
 "metadata": {
  "kernelspec": {
   "language": "python",
   "display_name": "Python 3",
   "name": "python3"
  },
  "language_info": {
   "name": "python",
   "version": "3.10.13",
   "mimetype": "text/x-python",
   "codemirror_mode": {
    "name": "ipython",
    "version": 3
   },
   "pygments_lexer": "ipython3",
   "nbconvert_exporter": "python",
   "file_extension": ".py"
  },
  "kaggle": {
   "accelerator": "gpu",
   "dataSources": [
    {
     "sourceId": 7902951,
     "sourceType": "datasetVersion",
     "datasetId": 4641655
    }
   ],
   "dockerImageVersionId": 30699,
   "isInternetEnabled": true,
   "language": "python",
   "sourceType": "notebook",
   "isGpuEnabled": true
  }
 },
 "nbformat_minor": 4,
 "nbformat": 4,
 "cells": [
  {
   "cell_type": "code",
   "source": [
    "# !pip install evaluate"
   ],
   "metadata": {
    "execution": {
     "iopub.status.busy": "2024-05-24T15:25:58.724577Z",
     "iopub.execute_input": "2024-05-24T15:25:58.724950Z",
     "iopub.status.idle": "2024-05-24T15:26:13.000969Z",
     "shell.execute_reply.started": "2024-05-24T15:25:58.724923Z",
     "shell.execute_reply": "2024-05-24T15:26:12.999882Z"
    },
    "trusted": true
   },
   "execution_count": 2,
   "outputs": [
    {
     "name": "stdout",
     "text": "Collecting evaluate\n  Downloading evaluate-0.4.2-py3-none-any.whl.metadata (9.3 kB)\nRequirement already satisfied: datasets>=2.0.0 in /opt/conda/lib/python3.10/site-packages (from evaluate) (2.18.0)\nRequirement already satisfied: numpy>=1.17 in /opt/conda/lib/python3.10/site-packages (from evaluate) (1.26.4)\nRequirement already satisfied: dill in /opt/conda/lib/python3.10/site-packages (from evaluate) (0.3.8)\nRequirement already satisfied: pandas in /opt/conda/lib/python3.10/site-packages (from evaluate) (2.1.4)\nRequirement already satisfied: requests>=2.19.0 in /opt/conda/lib/python3.10/site-packages (from evaluate) (2.31.0)\nRequirement already satisfied: tqdm>=4.62.1 in /opt/conda/lib/python3.10/site-packages (from evaluate) (4.66.1)\nRequirement already satisfied: xxhash in /opt/conda/lib/python3.10/site-packages (from evaluate) (3.4.1)\nRequirement already satisfied: multiprocess in /opt/conda/lib/python3.10/site-packages (from evaluate) (0.70.16)\nRequirement already satisfied: fsspec>=2021.05.0 in /opt/conda/lib/python3.10/site-packages (from fsspec[http]>=2021.05.0->evaluate) (2024.2.0)\nRequirement already satisfied: huggingface-hub>=0.7.0 in /opt/conda/lib/python3.10/site-packages (from evaluate) (0.22.2)\nRequirement already satisfied: packaging in /opt/conda/lib/python3.10/site-packages (from evaluate) (21.3)\nInstalling collected packages: evaluate\nSuccessfully installed evaluate-0.4.2\n",
     "output_type": "stream"
    }
   ]
  },
  {
   "cell_type": "code",
   "source": [
    "import numpy as np\n",
    "import pandas as pd\n",
    "from transformers import AutoTokenizer\n",
    "from transformers import AutoModelForSequenceClassification, TrainingArguments, Trainer\n",
    "from transformers import DataCollatorWithPadding\n",
    "import evaluate\n",
    "from datasets import Dataset\n",
    "from sklearn import metrics\n",
    "from sklearn.model_selection import train_test_split\n",
    "from sklearn.ensemble import RandomForestClassifier\n",
    "from sklearn.svm import LinearSVC\n",
    "from sklearn.pipeline import Pipeline\n",
    "import string\n",
    "from nltk.corpus import stopwords\n",
    "from sklearn.feature_extraction.text import TfidfVectorizer\n",
    "from nltk.tokenize import word_tokenize\n",
    "from transformers import pipeline\n",
    "from transformers import AutoTokenizer"
   ],
   "metadata": {
    "_uuid": "8f2839f25d086af736a60e9eeb907d3b93b6e0e5",
    "_cell_guid": "b1076dfc-b9ad-4769-8c92-a6c4dae69d19",
    "execution": {
     "iopub.status.busy": "2024-05-24T15:26:13.769234Z",
     "iopub.execute_input": "2024-05-24T15:26:13.769883Z",
     "iopub.status.idle": "2024-05-24T15:26:13.776899Z",
     "shell.execute_reply.started": "2024-05-24T15:26:13.769840Z",
     "shell.execute_reply": "2024-05-24T15:26:13.776002Z"
    },
    "trusted": true
   },
   "execution_count": 4,
   "outputs": []
  },
  {
   "cell_type": "code",
   "source": [
    "masterDF = pd.read_csv('/kaggle/input/telegram-spam-or-ham/dataset.csv')"
   ],
   "metadata": {
    "execution": {
     "iopub.status.busy": "2024-05-24T15:26:18.550700Z",
     "iopub.execute_input": "2024-05-24T15:26:18.551497Z",
     "iopub.status.idle": "2024-05-24T15:26:18.745582Z",
     "shell.execute_reply.started": "2024-05-24T15:26:18.551468Z",
     "shell.execute_reply": "2024-05-24T15:26:18.744674Z"
    },
    "trusted": true
   },
   "execution_count": 5,
   "outputs": []
  },
  {
   "cell_type": "code",
   "source": [
    "masterDF.head(5)"
   ],
   "metadata": {
    "execution": {
     "iopub.status.busy": "2024-05-24T15:26:22.031987Z",
     "iopub.execute_input": "2024-05-24T15:26:22.032353Z",
     "iopub.status.idle": "2024-05-24T15:26:22.053362Z",
     "shell.execute_reply.started": "2024-05-24T15:26:22.032326Z",
     "shell.execute_reply": "2024-05-24T15:26:22.052448Z"
    },
    "trusted": true
   },
   "execution_count": 6,
   "outputs": [
    {
     "execution_count": 6,
     "output_type": "execute_result",
     "data": {
      "text/plain": "  text_type                                               text\n0      spam  naturally irresistible your corporate identity...\n1      spam  the stock trading gunslinger fanny is merrill ...\n2      spam  unbelievable new homes made easy im wanting to...\n3      spam  4 color printing special request additional in...\n4      spam  do not have money get software cds from here s...",
      "text/html": "<div>\n<style scoped>\n    .dataframe tbody tr th:only-of-type {\n        vertical-align: middle;\n    }\n\n    .dataframe tbody tr th {\n        vertical-align: top;\n    }\n\n    .dataframe thead th {\n        text-align: right;\n    }\n</style>\n<table border=\"1\" class=\"dataframe\">\n  <thead>\n    <tr style=\"text-align: right;\">\n      <th></th>\n      <th>text_type</th>\n      <th>text</th>\n    </tr>\n  </thead>\n  <tbody>\n    <tr>\n      <th>0</th>\n      <td>spam</td>\n      <td>naturally irresistible your corporate identity...</td>\n    </tr>\n    <tr>\n      <th>1</th>\n      <td>spam</td>\n      <td>the stock trading gunslinger fanny is merrill ...</td>\n    </tr>\n    <tr>\n      <th>2</th>\n      <td>spam</td>\n      <td>unbelievable new homes made easy im wanting to...</td>\n    </tr>\n    <tr>\n      <th>3</th>\n      <td>spam</td>\n      <td>4 color printing special request additional in...</td>\n    </tr>\n    <tr>\n      <th>4</th>\n      <td>spam</td>\n      <td>do not have money get software cds from here s...</td>\n    </tr>\n  </tbody>\n</table>\n</div>"
     },
     "metadata": {}
    }
   ]
  },
  {
   "cell_type": "code",
   "source": [
    "masterDF.info()"
   ],
   "metadata": {
    "execution": {
     "iopub.status.busy": "2024-05-24T15:26:28.321955Z",
     "iopub.execute_input": "2024-05-24T15:26:28.322334Z",
     "iopub.status.idle": "2024-05-24T15:26:28.350782Z",
     "shell.execute_reply.started": "2024-05-24T15:26:28.322304Z",
     "shell.execute_reply": "2024-05-24T15:26:28.349752Z"
    },
    "trusted": true
   },
   "execution_count": 7,
   "outputs": [
    {
     "name": "stdout",
     "text": "<class 'pandas.core.frame.DataFrame'>\nRangeIndex: 20348 entries, 0 to 20347\nData columns (total 2 columns):\n #   Column     Non-Null Count  Dtype \n---  ------     --------------  ----- \n 0   text_type  20348 non-null  object\n 1   text       20348 non-null  object\ndtypes: object(2)\nmemory usage: 318.1+ KB\n",
     "output_type": "stream"
    }
   ]
  },
  {
   "cell_type": "code",
   "source": [
    "masterDF.isnull().sum()"
   ],
   "metadata": {
    "execution": {
     "iopub.status.busy": "2024-05-24T15:26:31.907705Z",
     "iopub.execute_input": "2024-05-24T15:26:31.908542Z",
     "iopub.status.idle": "2024-05-24T15:26:31.921292Z",
     "shell.execute_reply.started": "2024-05-24T15:26:31.908508Z",
     "shell.execute_reply": "2024-05-24T15:26:31.920250Z"
    },
    "trusted": true
   },
   "execution_count": 8,
   "outputs": [
    {
     "execution_count": 8,
     "output_type": "execute_result",
     "data": {
      "text/plain": "text_type    0\ntext         0\ndtype: int64"
     },
     "metadata": {}
    }
   ]
  },
  {
   "cell_type": "code",
   "source": [
    "masterDF['text_type'].value_counts()"
   ],
   "metadata": {
    "execution": {
     "iopub.status.busy": "2024-05-24T15:26:34.600321Z",
     "iopub.execute_input": "2024-05-24T15:26:34.600665Z",
     "iopub.status.idle": "2024-05-24T15:26:34.613387Z",
     "shell.execute_reply.started": "2024-05-24T15:26:34.600639Z",
     "shell.execute_reply": "2024-05-24T15:26:34.612327Z"
    },
    "trusted": true
   },
   "execution_count": 9,
   "outputs": [
    {
     "execution_count": 9,
     "output_type": "execute_result",
     "data": {
      "text/plain": "text_type\nham     14337\nspam     6011\nName: count, dtype: int64"
     },
     "metadata": {}
    }
   ]
  },
  {
   "cell_type": "code",
   "source": [
    "X = masterDF['text']\n",
    "y = masterDF['text_type']"
   ],
   "metadata": {
    "execution": {
     "iopub.status.busy": "2024-05-24T15:26:37.532111Z",
     "iopub.execute_input": "2024-05-24T15:26:37.532460Z",
     "iopub.status.idle": "2024-05-24T15:26:37.536986Z",
     "shell.execute_reply.started": "2024-05-24T15:26:37.532435Z",
     "shell.execute_reply": "2024-05-24T15:26:37.535962Z"
    },
    "trusted": true
   },
   "execution_count": 10,
   "outputs": []
  },
  {
   "cell_type": "code",
   "source": [
    "X_train, X_test, y_train, y_test = train_test_split(X, y, test_size=0.3, random_state=42)"
   ],
   "metadata": {
    "execution": {
     "iopub.status.busy": "2024-05-24T15:26:40.700258Z",
     "iopub.execute_input": "2024-05-24T15:26:40.700603Z",
     "iopub.status.idle": "2024-05-24T15:26:40.712438Z",
     "shell.execute_reply.started": "2024-05-24T15:26:40.700576Z",
     "shell.execute_reply": "2024-05-24T15:26:40.711546Z"
    },
    "trusted": true
   },
   "execution_count": 11,
   "outputs": []
  },
  {
   "cell_type": "code",
   "source": [
    "def remove_stopWords_and_punct(text):\n",
    "    stop_words = set(stopwords.words('english'))\n",
    "    remove_punct = \"\".join([char for char in text if char not in string.punctuation])\n",
    "    word_tokens = word_tokenize(remove_punct)\n",
    "    remove_stopWords = \" \".join([w for w in word_tokens if w.lower() not in stop_words])\n",
    "    return remove_stopWords"
   ],
   "metadata": {
    "execution": {
     "iopub.status.busy": "2024-05-24T15:26:43.308065Z",
     "iopub.execute_input": "2024-05-24T15:26:43.308913Z",
     "iopub.status.idle": "2024-05-24T15:26:43.314469Z",
     "shell.execute_reply.started": "2024-05-24T15:26:43.308881Z",
     "shell.execute_reply": "2024-05-24T15:26:43.313500Z"
    },
    "trusted": true
   },
   "execution_count": 12,
   "outputs": []
  },
  {
   "cell_type": "code",
   "source": [
    "vectorizer = TfidfVectorizer(preprocessor=remove_stopWords_and_punct)\n",
    "linearSVCpipeline = Pipeline([('tfidf', vectorizer),\n",
    "                              ('clf', LinearSVC(dual=True))])\n",
    "\n",
    "randomFORESTpipeline = Pipeline([('tfidf', vectorizer),\n",
    "                              ('clf', RandomForestClassifier(n_estimators=100))])"
   ],
   "metadata": {
    "execution": {
     "iopub.status.busy": "2024-05-24T15:26:46.463162Z",
     "iopub.execute_input": "2024-05-24T15:26:46.463550Z",
     "iopub.status.idle": "2024-05-24T15:26:46.469320Z",
     "shell.execute_reply.started": "2024-05-24T15:26:46.463520Z",
     "shell.execute_reply": "2024-05-24T15:26:46.468268Z"
    },
    "trusted": true
   },
   "execution_count": 13,
   "outputs": []
  },
  {
   "cell_type": "code",
   "source": [
    "linearSVCpipeline.fit(X_train, y_train)\n",
    "predictions = linearSVCpipeline.predict(X_test)\n",
    "print(metrics.classification_report(y_test,predictions))\n",
    "print(f\"Accuracy score:{metrics.accuracy_score(y_test,predictions)}\")"
   ],
   "metadata": {
    "execution": {
     "iopub.status.busy": "2024-05-24T15:26:53.451586Z",
     "iopub.execute_input": "2024-05-24T15:26:53.451958Z",
     "iopub.status.idle": "2024-05-24T15:27:10.163707Z",
     "shell.execute_reply.started": "2024-05-24T15:26:53.451931Z",
     "shell.execute_reply": "2024-05-24T15:27:10.162609Z"
    },
    "trusted": true
   },
   "execution_count": 14,
   "outputs": [
    {
     "name": "stdout",
     "text": "              precision    recall  f1-score   support\n\n         ham       0.96      0.97      0.96      4338\n        spam       0.91      0.89      0.90      1767\n\n    accuracy                           0.94      6105\n   macro avg       0.93      0.93      0.93      6105\nweighted avg       0.94      0.94      0.94      6105\n\nAccuracy score:0.9441441441441442\n",
     "output_type": "stream"
    }
   ]
  },
  {
   "cell_type": "code",
   "source": [
    "randomFORESTpipeline.fit(X_train, y_train)\n",
    "predictions = randomFORESTpipeline.predict(X_test)\n",
    "print(metrics.classification_report(y_test,predictions))\n",
    "print(f\"Accuracy score:{metrics.accuracy_score(y_test,predictions)}\")"
   ],
   "metadata": {
    "execution": {
     "iopub.status.busy": "2024-05-24T15:27:10.165423Z",
     "iopub.execute_input": "2024-05-24T15:27:10.165769Z",
     "iopub.status.idle": "2024-05-24T15:27:52.828492Z",
     "shell.execute_reply.started": "2024-05-24T15:27:10.165741Z",
     "shell.execute_reply": "2024-05-24T15:27:52.827500Z"
    },
    "trusted": true
   },
   "execution_count": 15,
   "outputs": [
    {
     "name": "stdout",
     "text": "              precision    recall  f1-score   support\n\n         ham       0.92      0.99      0.96      4338\n        spam       0.97      0.80      0.88      1767\n\n    accuracy                           0.94      6105\n   macro avg       0.95      0.90      0.92      6105\nweighted avg       0.94      0.94      0.93      6105\n\nAccuracy score:0.9351351351351351\n",
     "output_type": "stream"
    }
   ]
  },
  {
   "cell_type": "markdown",
   "source": [
    "# Using transformers"
   ],
   "metadata": {}
  },
  {
   "cell_type": "code",
   "source": [
    "masterDF = masterDF.replace({'ham': 0, 'spam': 1})\n",
    "masterDF = masterDF.rename(columns={'text_type': 'labels'})\n",
    "dataset = Dataset.from_pandas(masterDF)"
   ],
   "metadata": {
    "execution": {
     "iopub.status.busy": "2024-05-24T15:28:05.898086Z",
     "iopub.execute_input": "2024-05-24T15:28:05.898455Z",
     "iopub.status.idle": "2024-05-24T15:28:05.999386Z",
     "shell.execute_reply.started": "2024-05-24T15:28:05.898428Z",
     "shell.execute_reply": "2024-05-24T15:28:05.998414Z"
    },
    "trusted": true
   },
   "execution_count": 16,
   "outputs": [
    {
     "name": "stderr",
     "text": "/tmp/ipykernel_34/3184011848.py:1: FutureWarning: Downcasting behavior in `replace` is deprecated and will be removed in a future version. To retain the old behavior, explicitly call `result.infer_objects(copy=False)`. To opt-in to the future behavior, set `pd.set_option('future.no_silent_downcasting', True)`\n  masterDF = masterDF.replace({'ham': 0, 'spam': 1})\n",
     "output_type": "stream"
    }
   ]
  },
  {
   "cell_type": "code",
   "source": [
    "tokenizer = AutoTokenizer.from_pretrained(\"bert-base-uncased\")"
   ],
   "metadata": {
    "execution": {
     "iopub.status.busy": "2024-05-24T15:28:27.148844Z",
     "iopub.execute_input": "2024-05-24T15:28:27.149657Z",
     "iopub.status.idle": "2024-05-24T15:28:28.632191Z",
     "shell.execute_reply.started": "2024-05-24T15:28:27.149623Z",
     "shell.execute_reply": "2024-05-24T15:28:28.631079Z"
    },
    "trusted": true
   },
   "execution_count": 17,
   "outputs": [
    {
     "output_type": "display_data",
     "data": {
      "text/plain": "tokenizer_config.json:   0%|          | 0.00/48.0 [00:00<?, ?B/s]",
      "application/vnd.jupyter.widget-view+json": {
       "version_major": 2,
       "version_minor": 0,
       "model_id": "c5291b1d8f994d00b0aecedec5427199"
      }
     },
     "metadata": {}
    },
    {
     "output_type": "display_data",
     "data": {
      "text/plain": "config.json:   0%|          | 0.00/570 [00:00<?, ?B/s]",
      "application/vnd.jupyter.widget-view+json": {
       "version_major": 2,
       "version_minor": 0,
       "model_id": "43d6db668e79416ba24ed89092dcaafb"
      }
     },
     "metadata": {}
    },
    {
     "output_type": "display_data",
     "data": {
      "text/plain": "vocab.txt:   0%|          | 0.00/232k [00:00<?, ?B/s]",
      "application/vnd.jupyter.widget-view+json": {
       "version_major": 2,
       "version_minor": 0,
       "model_id": "c9839030c1f04908bf9a71908cf370e4"
      }
     },
     "metadata": {}
    },
    {
     "output_type": "display_data",
     "data": {
      "text/plain": "tokenizer.json:   0%|          | 0.00/466k [00:00<?, ?B/s]",
      "application/vnd.jupyter.widget-view+json": {
       "version_major": 2,
       "version_minor": 0,
       "model_id": "a1e31df0d3144f1499c6bd7e33c6438f"
      }
     },
     "metadata": {}
    }
   ]
  },
  {
   "cell_type": "code",
   "source": [
    "def preprocess_function(examples):\n",
    "    return tokenizer(examples['text'], truncation=True)"
   ],
   "metadata": {
    "execution": {
     "iopub.status.busy": "2024-05-24T15:28:34.878011Z",
     "iopub.execute_input": "2024-05-24T15:28:34.878790Z",
     "iopub.status.idle": "2024-05-24T15:28:34.883134Z",
     "shell.execute_reply.started": "2024-05-24T15:28:34.878758Z",
     "shell.execute_reply": "2024-05-24T15:28:34.882156Z"
    },
    "trusted": true
   },
   "execution_count": 18,
   "outputs": []
  },
  {
   "cell_type": "code",
   "source": [
    "tokenized_masterDF = dataset.map(preprocess_function, batched=True)"
   ],
   "metadata": {
    "execution": {
     "iopub.status.busy": "2024-05-24T15:28:38.786346Z",
     "iopub.execute_input": "2024-05-24T15:28:38.787225Z",
     "iopub.status.idle": "2024-05-24T15:28:42.508005Z",
     "shell.execute_reply.started": "2024-05-24T15:28:38.787164Z",
     "shell.execute_reply": "2024-05-24T15:28:42.507121Z"
    },
    "trusted": true
   },
   "execution_count": 19,
   "outputs": [
    {
     "output_type": "display_data",
     "data": {
      "text/plain": "Map:   0%|          | 0/20348 [00:00<?, ? examples/s]",
      "application/vnd.jupyter.widget-view+json": {
       "version_major": 2,
       "version_minor": 0,
       "model_id": "a13db70d4b664b768a7d2e4270fb55ea"
      }
     },
     "metadata": {}
    }
   ]
  },
  {
   "cell_type": "code",
   "source": [
    "tokenized_masterDF = tokenized_masterDF.train_test_split(test_size=0.3)"
   ],
   "metadata": {
    "execution": {
     "iopub.status.busy": "2024-05-24T15:28:55.483848Z",
     "iopub.execute_input": "2024-05-24T15:28:55.484653Z",
     "iopub.status.idle": "2024-05-24T15:28:55.506474Z",
     "shell.execute_reply.started": "2024-05-24T15:28:55.484619Z",
     "shell.execute_reply": "2024-05-24T15:28:55.505579Z"
    },
    "trusted": true
   },
   "execution_count": 20,
   "outputs": []
  },
  {
   "cell_type": "code",
   "source": [
    "data_collator = DataCollatorWithPadding(tokenizer=tokenizer)"
   ],
   "metadata": {
    "execution": {
     "iopub.status.busy": "2024-05-24T15:28:58.354357Z",
     "iopub.execute_input": "2024-05-24T15:28:58.355226Z",
     "iopub.status.idle": "2024-05-24T15:28:58.359161Z",
     "shell.execute_reply.started": "2024-05-24T15:28:58.355192Z",
     "shell.execute_reply": "2024-05-24T15:28:58.358239Z"
    },
    "trusted": true
   },
   "execution_count": 21,
   "outputs": []
  },
  {
   "cell_type": "code",
   "source": [
    "accuracy = evaluate.load(\"accuracy\")"
   ],
   "metadata": {
    "execution": {
     "iopub.status.busy": "2024-05-24T15:29:00.985025Z",
     "iopub.execute_input": "2024-05-24T15:29:00.985674Z",
     "iopub.status.idle": "2024-05-24T15:29:01.706739Z",
     "shell.execute_reply.started": "2024-05-24T15:29:00.985645Z",
     "shell.execute_reply": "2024-05-24T15:29:01.705839Z"
    },
    "trusted": true
   },
   "execution_count": 22,
   "outputs": [
    {
     "output_type": "display_data",
     "data": {
      "text/plain": "Downloading builder script:   0%|          | 0.00/4.20k [00:00<?, ?B/s]",
      "application/vnd.jupyter.widget-view+json": {
       "version_major": 2,
       "version_minor": 0,
       "model_id": "fa9e72c621044f2e9757bb2110c2fabb"
      }
     },
     "metadata": {}
    }
   ]
  },
  {
   "cell_type": "code",
   "source": [
    "def compute_metrics(eval_pred):\n",
    "    predictions, labels = eval_pred\n",
    "    predictions = np.argmax(predictions, axis=1)\n",
    "    return accuracy.compute(predictions=predictions, references=labels)"
   ],
   "metadata": {
    "execution": {
     "iopub.status.busy": "2024-05-24T15:29:04.958898Z",
     "iopub.execute_input": "2024-05-24T15:29:04.959271Z",
     "iopub.status.idle": "2024-05-24T15:29:04.964418Z",
     "shell.execute_reply.started": "2024-05-24T15:29:04.959243Z",
     "shell.execute_reply": "2024-05-24T15:29:04.963351Z"
    },
    "trusted": true
   },
   "execution_count": 23,
   "outputs": []
  },
  {
   "cell_type": "code",
   "source": [
    "id2label = {0: \"ham\", 1: \"spam\"}\n",
    "label2id = {\"ham\": 0, \"spam\": 1}"
   ],
   "metadata": {
    "execution": {
     "iopub.status.busy": "2024-05-24T15:29:05.874951Z",
     "iopub.execute_input": "2024-05-24T15:29:05.875322Z",
     "iopub.status.idle": "2024-05-24T15:29:05.880095Z",
     "shell.execute_reply.started": "2024-05-24T15:29:05.875294Z",
     "shell.execute_reply": "2024-05-24T15:29:05.879148Z"
    },
    "trusted": true
   },
   "execution_count": 24,
   "outputs": []
  },
  {
   "cell_type": "code",
   "source": [
    "model = AutoModelForSequenceClassification.from_pretrained(\n",
    "    \"bert-base-uncased\", num_labels=2, id2label=id2label, label2id=label2id\n",
    ")"
   ],
   "metadata": {
    "execution": {
     "iopub.status.busy": "2024-05-24T15:29:08.382644Z",
     "iopub.execute_input": "2024-05-24T15:29:08.382978Z",
     "iopub.status.idle": "2024-05-24T15:29:10.426381Z",
     "shell.execute_reply.started": "2024-05-24T15:29:08.382955Z",
     "shell.execute_reply": "2024-05-24T15:29:10.425386Z"
    },
    "trusted": true
   },
   "execution_count": 25,
   "outputs": [
    {
     "output_type": "display_data",
     "data": {
      "text/plain": "model.safetensors:   0%|          | 0.00/440M [00:00<?, ?B/s]",
      "application/vnd.jupyter.widget-view+json": {
       "version_major": 2,
       "version_minor": 0,
       "model_id": "b4c15681823447fd8e7ff873811a7660"
      }
     },
     "metadata": {}
    },
    {
     "name": "stderr",
     "text": "Some weights of BertForSequenceClassification were not initialized from the model checkpoint at bert-base-uncased and are newly initialized: ['classifier.bias', 'classifier.weight']\nYou should probably TRAIN this model on a down-stream task to be able to use it for predictions and inference.\n",
     "output_type": "stream"
    }
   ]
  },
  {
   "cell_type": "code",
   "source": [
    "training_args = TrainingArguments(\n",
    "    output_dir=\"spamDetectionBERT\",\n",
    "    learning_rate=2e-5,\n",
    "    per_device_train_batch_size=16,\n",
    "    per_device_eval_batch_size=16,\n",
    "    num_train_epochs=2,\n",
    "    weight_decay=0.01,\n",
    "    evaluation_strategy=\"epoch\",\n",
    "    save_strategy=\"epoch\",\n",
    "    load_best_model_at_end=True,\n",
    "    push_to_hub=False,\n",
    "    report_to=\"none\"\n",
    ")\n",
    "\n",
    "trainer = Trainer(\n",
    "    model=model,\n",
    "    args=training_args,\n",
    "    train_dataset=tokenized_masterDF['train'],\n",
    "    eval_dataset=tokenized_masterDF['test'],\n",
    "    tokenizer=tokenizer,\n",
    "    data_collator=data_collator,\n",
    "    compute_metrics=compute_metrics,\n",
    ")\n",
    "\n",
    "trainer.train()"
   ],
   "metadata": {
    "execution": {
     "iopub.status.busy": "2024-05-24T15:29:31.429630Z",
     "iopub.execute_input": "2024-05-24T15:29:31.430009Z",
     "iopub.status.idle": "2024-05-24T15:40:15.043584Z",
     "shell.execute_reply.started": "2024-05-24T15:29:31.429978Z",
     "shell.execute_reply": "2024-05-24T15:40:15.042670Z"
    },
    "trusted": true
   },
   "execution_count": 26,
   "outputs": [
    {
     "name": "stderr",
     "text": "/opt/conda/lib/python3.10/site-packages/accelerate/accelerator.py:436: FutureWarning: Passing the following arguments to `Accelerator` is deprecated and will be removed in version 1.0 of Accelerate: dict_keys(['dispatch_batches', 'split_batches', 'even_batches', 'use_seedable_sampler']). Please pass an `accelerate.DataLoaderConfiguration` instead: \ndataloader_config = DataLoaderConfiguration(dispatch_batches=None, split_batches=False, even_batches=True, use_seedable_sampler=True)\n  warnings.warn(\n",
     "output_type": "stream"
    },
    {
     "output_type": "display_data",
     "data": {
      "text/plain": "<IPython.core.display.HTML object>",
      "text/html": "\n    <div>\n      \n      <progress value='1782' max='1782' style='width:300px; height:20px; vertical-align: middle;'></progress>\n      [1782/1782 10:41, Epoch 2/2]\n    </div>\n    <table border=\"1\" class=\"dataframe\">\n  <thead>\n <tr style=\"text-align: left;\">\n      <th>Epoch</th>\n      <th>Training Loss</th>\n      <th>Validation Loss</th>\n      <th>Accuracy</th>\n    </tr>\n  </thead>\n  <tbody>\n    <tr>\n      <td>1</td>\n      <td>0.198100</td>\n      <td>0.101514</td>\n      <td>0.976085</td>\n    </tr>\n    <tr>\n      <td>2</td>\n      <td>0.046000</td>\n      <td>0.095289</td>\n      <td>0.979853</td>\n    </tr>\n  </tbody>\n</table><p>"
     },
     "metadata": {}
    },
    {
     "execution_count": 26,
     "output_type": "execute_result",
     "data": {
      "text/plain": "TrainOutput(global_step=1782, training_loss=0.10558480820404292, metrics={'train_runtime': 642.9305, 'train_samples_per_second': 44.306, 'train_steps_per_second': 2.772, 'total_flos': 2743446640908000.0, 'train_loss': 0.10558480820404292, 'epoch': 2.0})"
     },
     "metadata": {}
    }
   ]
  },
  {
   "cell_type": "code",
   "source": [
    "text = \"upside only treasury linked annuity upside of annual increases in 5 year t note bonus crediting over normal treasury notes alternative for large municipal bond or t note buyers call or e mail us today or please fill out the form below for more information name e mail phone city state for deposits over 100 000 we don t want anybody to receive our mailings who does not wish to receive them this is professional communication sent to insurance professionals to be removed from this mailing list do not reply to this message instead go he http www insurancemail net legal notice\"\n",
    "\n",
    "model = AutoModelForSequenceClassification.from_pretrained(\"/kaggle/working/spamDetectionBERT/checkpoint-1782\")\n",
    "new_tokenizer = AutoTokenizer.from_pretrained('bert-base-uncased')\n",
    "\n",
    "classifier = pipeline(\"text-classification\", model=model, tokenizer=new_tokenizer)\n",
    "classifier(text)"
   ],
   "metadata": {
    "execution": {
     "iopub.status.busy": "2024-05-24T15:41:19.122070Z",
     "iopub.execute_input": "2024-05-24T15:41:19.122452Z",
     "iopub.status.idle": "2024-05-24T15:41:19.795870Z",
     "shell.execute_reply.started": "2024-05-24T15:41:19.122421Z",
     "shell.execute_reply": "2024-05-24T15:41:19.794804Z"
    },
    "trusted": true
   },
   "execution_count": 27,
   "outputs": [
    {
     "execution_count": 27,
     "output_type": "execute_result",
     "data": {
      "text/plain": "[{'label': 'spam', 'score': 0.9995502829551697}]"
     },
     "metadata": {}
    }
   ]
  }
 ]
}
